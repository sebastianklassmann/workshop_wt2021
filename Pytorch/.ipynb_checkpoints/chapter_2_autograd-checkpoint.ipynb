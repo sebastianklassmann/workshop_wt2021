{
 "cells": [
  {
   "cell_type": "markdown",
   "metadata": {},
   "source": [
    "# A GENTLE INTRODUCTION TO TORCH.AUTOGRAD"
   ]
  },
  {
   "cell_type": "markdown",
   "metadata": {},
   "source": [
    "Notebook Conversion / Exercises: Sebastian Klaßmann, University of Cologne  \n",
    "February $22^{nd}$, 2021"
   ]
  },
  {
   "cell_type": "markdown",
   "metadata": {},
   "source": [
    "**Disclaimer**: The text and core structure of this series of notebooks has been taken from the above link. The provided materials have been converted to Jupyter notebooks and comprehension questions and exercises have been added along the way."
   ]
  },
  {
   "cell_type": "markdown",
   "metadata": {},
   "source": [
    "---"
   ]
  },
  {
   "cell_type": "code",
   "execution_count": null,
   "metadata": {},
   "outputs": [],
   "source": [
    "import numpy as np"
   ]
  },
  {
   "cell_type": "markdown",
   "metadata": {},
   "source": [
    "**Task 1**: Read through the below Notebook carefully and discuss with your fellow students along the way.  \n",
    "**Task 2**: Throughout this notebook, there will be extra questions and programming challenges for you. Solve them - if you are unsure about how certain things work in pytorch or numpy, the library documentations are your best friends.  \n",
    "**Task 3**: Often enough, the amount of commenting in code that you can find online is not sufficient to enable somebody new to a given library / programming language to understand what is going on. Complete the comments in the code below and make sure that you understand every line of code.  \n",
    "   \n",
    "**Tip:** Very often, libraries in Python come with a built in documentation for all included object types and methods. You can easily access them using a question mark before the object in question. For example:"
   ]
  },
  {
   "cell_type": "code",
   "execution_count": null,
   "metadata": {},
   "outputs": [],
   "source": [
    "# ?np.array\n",
    "# ?np.mat"
   ]
  },
  {
   "cell_type": "markdown",
   "metadata": {},
   "source": [
    "---"
   ]
  },
  {
   "cell_type": "markdown",
   "metadata": {},
   "source": [
    "```torch.autograd``` is PyTorch’s automatic differentiation engine that powers neural network training. In this section, you will get a conceptual understanding of how autograd helps a neural network train."
   ]
  },
  {
   "cell_type": "markdown",
   "metadata": {},
   "source": [
    "### Background\n",
    "\n",
    "Neural networks (NNs) are a collection of nested functions that are executed on some input data. These functions are defined by parameters (consisting of weights and biases), which in PyTorch are stored in tensors.\n",
    "\n",
    "Training a NN happens in two steps:\n",
    "\n",
    "**Forward Propagation**: In forward prop, the NN makes its best guess about the correct output. It runs the input data through each of its functions to make this guess.\n",
    "\n",
    "**Backward Propagation**: In backprop, the NN adjusts its parameters proportionate to the error in its guess. It does this by traversing backwards from the output, collecting the derivatives of the error with respect to the parameters of the functions (gradients), and optimizing the parameters using gradient descent. For a more detailed walkthrough of backprop, check out this video from 3Blue1Brown:"
   ]
  },
  {
   "cell_type": "code",
   "execution_count": null,
   "metadata": {},
   "outputs": [],
   "source": [
    "from IPython.display import YouTubeVideo"
   ]
  },
  {
   "cell_type": "code",
   "execution_count": null,
   "metadata": {},
   "outputs": [],
   "source": [
    "# here's the video in case you want to check it out at your own leasure.\n",
    "YouTubeVideo('tIeHLnjs5U8', width=800, height=300)"
   ]
  },
  {
   "cell_type": "markdown",
   "metadata": {},
   "source": [
    "**Literature:** A more general approach to understanding backpropagation in neural networks based on understanding neural nets as directed acyclic graphs is given in Rojas, R. (2013). *Neural networks: a systematic introduction.* Springer Science & Business Media, 151-173. "
   ]
  },
  {
   "cell_type": "markdown",
   "metadata": {},
   "source": [
    "## Usage in PyTorch\n",
    "\n",
    "Let’s take a look at a single training step. For this example, we load a pretrained resnet18 model from torchvision. We create a random data tensor to represent a single image with 3 channels, and height & width of 64, and its corresponding label initialized to some random values."
   ]
  },
  {
   "cell_type": "code",
   "execution_count": null,
   "metadata": {},
   "outputs": [],
   "source": [
    "import torch, torchvision\n",
    "model = torchvision.models.resnet18(pretrained=True)\n",
    "data = torch.rand(1, 3, 64, 64)\n",
    "labels = torch.rand(1, 1000)"
   ]
  },
  {
   "cell_type": "markdown",
   "metadata": {},
   "source": [
    "---"
   ]
  },
  {
   "cell_type": "markdown",
   "metadata": {},
   "source": [
    "### Exercise: \n",
    "  \n",
    "Look at the data we created above.  \n",
    "  \n",
    "```python\n",
    "data = torch.rand(1, 3, 64, 64)\n",
    "labels = torch.rand(1, 1000)\n",
    "```\n",
    "* What does our resulting label tensor look like?  \n",
    "\n",
    "Have a look at Pytorch's [description of the (pretrained) resnet18 architecture](https://pytorch.org/hub/pytorch_vision_resnet/).  \n",
    "* What does it mean to represent an image \"with 3 channels\" and why could it be useful?\n",
    "\n",
    "* What does the structure of our pretrained network look like? If you make use of external references, write them down.\n",
    "  \n",
    "* **Bonus Questions:** In image processing, one often used architecture is a convolutional neural network (ConvNet/CNN). [This article](https://towardsdatascience.com/a-comprehensive-guide-to-convolutional-neural-networks-the-eli5-way-3bd2b1164a53) might prove to be a good starting point.\n",
    "    * What is the core idea behind a convolutional layer and what are the differences between max pooling and average pooling?\n",
    "    * In your own words: Why is Convolution feasible when dealing with multi-channel image input data represented as tensors?"
   ]
  },
  {
   "cell_type": "markdown",
   "metadata": {},
   "source": [
    "___\n"
   ]
  },
  {
   "cell_type": "markdown",
   "metadata": {},
   "source": [
    "Next, we run the input data through the model through each of its layers to make a prediction. This is the forward pass."
   ]
  },
  {
   "cell_type": "code",
   "execution_count": null,
   "metadata": {},
   "outputs": [],
   "source": [
    "prediction = model(data) # forward pass"
   ]
  },
  {
   "cell_type": "markdown",
   "metadata": {},
   "source": [
    "We use the model’s prediction and the corresponding label to calculate the error (loss). The next step is to backpropagate this error through the network. Backward propagation is kicked off when we call .backward() on the error tensor. Autograd then calculates and stores the gradients for each model parameter in the parameter’s .grad attribute."
   ]
  },
  {
   "cell_type": "code",
   "execution_count": null,
   "metadata": {},
   "outputs": [],
   "source": [
    "loss = (prediction - labels).sum()\n",
    "loss.backward() # backward pass"
   ]
  },
  {
   "cell_type": "markdown",
   "metadata": {},
   "source": [
    "Next, we load an optimizer, in this case SGD with a learning rate of 0.01 and momentum of 0.9. We register all the parameters of the model in the optimizer."
   ]
  },
  {
   "cell_type": "code",
   "execution_count": null,
   "metadata": {},
   "outputs": [],
   "source": [
    "optim = torch.optim.SGD(model.parameters(), lr=1e-2, momentum=0.9)"
   ]
  },
  {
   "cell_type": "markdown",
   "metadata": {},
   "source": [
    "Finally, we call ```.step()``` to initiate gradient descent. The optimizer adjusts each parameter by its gradient stored in ```.grad```."
   ]
  },
  {
   "cell_type": "code",
   "execution_count": null,
   "metadata": {},
   "outputs": [],
   "source": [
    "optim.step() #gradient descent"
   ]
  },
  {
   "cell_type": "markdown",
   "metadata": {},
   "source": [
    "At this point, you have everything you need to train your neural network. The below sections detail the workings of autograd - feel free to skip them."
   ]
  },
  {
   "cell_type": "markdown",
   "metadata": {},
   "source": [
    "---"
   ]
  },
  {
   "cell_type": "markdown",
   "metadata": {},
   "source": [
    "### Exercise:\n",
    "* provide full comments for the above code cells.\n",
    "  \n",
    "One of the major strengths of PyTorch is the explicitness regarding individual steps of the training process. Using your knowledge from our previous sessions, please:\n",
    "  \n",
    "* instantiate new copys of the pretrained resnet18 architecture and our mock data.  \n",
    "* change the loss function to accomodate the sum of squared errors (SSE) we have been using throughout our course.\n",
    "* change the learning rate to 0.1\n",
    "* Perform a single step of gradient descent."
   ]
  },
  {
   "cell_type": "markdown",
   "metadata": {},
   "source": [
    "---"
   ]
  },
  {
   "cell_type": "markdown",
   "metadata": {},
   "source": [
    "### Differentiation in Autograd\n",
    "\n",
    "Let’s take a look at how ``` autograd ``` collects gradients. We create two tensors a and b with ``` requires_grad=True ```. This signals to ``` autograd ``` that every operation on them should be tracked."
   ]
  },
  {
   "cell_type": "code",
   "execution_count": null,
   "metadata": {},
   "outputs": [],
   "source": [
    "import torch\n",
    "\n",
    "a = torch.tensor([2., 3.], requires_grad=True)\n",
    "b = torch.tensor([6., 4.], requires_grad=True)"
   ]
  },
  {
   "cell_type": "markdown",
   "metadata": {},
   "source": [
    "We create another tensor Q from a and b."
   ]
  },
  {
   "cell_type": "markdown",
   "metadata": {},
   "source": [
    "$$Q = 3a^3 - b^2$$"
   ]
  },
  {
   "cell_type": "code",
   "execution_count": null,
   "metadata": {},
   "outputs": [],
   "source": [
    "Q = 3*a**3 - b**2"
   ]
  },
  {
   "cell_type": "markdown",
   "metadata": {},
   "source": [
    "Let’s assume a and b to be parameters of an NN, and Q to be the error. In NN training, we want gradients of the error with regards to parameters, i.e."
   ]
  },
  {
   "cell_type": "markdown",
   "metadata": {},
   "source": [
    "$$ \\frac {\\partial Q}{\\partial a} = 9a^2$$  \n",
    "  \n",
    "$$ \\frac {\\partial Q} {\\partial b} = -2b$$"
   ]
  },
  {
   "cell_type": "markdown",
   "metadata": {},
   "source": [
    "When we call ```.backward()``` on Q, autograd calculates these gradients and stores them in the respective tensors’ ```.grad ``` attribute.\n",
    "\n",
    "We need to explicitly pass a gradient argument in ``` Q.backward() ``` because it is a vector. ``` gradient ``` is a tensor of the same shape as Q, and it represents the gradient of Q w.r.t. itself, i.e.  \n",
    "  \n",
    "$$ \\frac{dQ}{dQ} = 1 $$"
   ]
  },
  {
   "cell_type": "markdown",
   "metadata": {},
   "source": [
    "Equivalently, we can also aggregate Q into a scalar and call ```backward ``` implicitly, like ```Q.sum().backward()```."
   ]
  },
  {
   "cell_type": "code",
   "execution_count": null,
   "metadata": {},
   "outputs": [],
   "source": [
    "external_grad = torch.tensor([1., 1.])\n",
    "Q.backward(gradient=external_grad)"
   ]
  },
  {
   "cell_type": "markdown",
   "metadata": {},
   "source": [
    "Gradients are now deposited in ```a.grad ``` and ```b.grad```"
   ]
  },
  {
   "cell_type": "code",
   "execution_count": null,
   "metadata": {},
   "outputs": [],
   "source": [
    "# check if collected gradients are correct\n",
    "print(9*a**2 == a.grad)\n",
    "print(-2*b == b.grad)"
   ]
  },
  {
   "cell_type": "markdown",
   "metadata": {},
   "source": [
    "---"
   ]
  },
  {
   "cell_type": "markdown",
   "metadata": {},
   "source": [
    "### Exercises:  \n",
    "  \n",
    "* Using your knowledge about derivation rules, show on paper that the partial derivations of Q provided in the section above are correct.  \n",
    "  \n",
    "* Consider a different loss function, e.g., $ L(a,b) = 5a^3 - 6b^2$.  \n",
    "   \n",
    "* Calculate the partial derivatives of L with regards to $\\vec a$ and $\\vec b$. \n",
    "  \n",
    "* Create two new tensors a and b representing these vectors, signalling to ```autograd``` that gradients for these tensors should be tracked down the line:\n",
    "  \n",
    "$$\n",
    "\\vec a = \n",
    "\\begin{bmatrix}\n",
    "8 & 9 & 24 & 13 \\\\\n",
    "\\end{bmatrix}\n",
    "\\vec b = \n",
    "\\begin{bmatrix}\n",
    "17 & 29 & 2 & 0.7 \\\\\n",
    "\\end{bmatrix}\n",
    "$$  \n",
    "  \n",
    "* Define a gradient tensor representing the partial derivative $\\frac{\\partial Q}{\\partial Q}$ in an appropriate shape.  \n",
    "* Check if the collected gradients match your own partial derivations $\\frac{\\partial Q}{\\partial a}$ and $\\frac{\\partial Q}{\\partial b}$."
   ]
  },
  {
   "cell_type": "markdown",
   "metadata": {},
   "source": [
    "---"
   ]
  },
  {
   "cell_type": "markdown",
   "metadata": {},
   "source": [
    "### Optional Reading - Vector Calculus using ```autograd```\n",
    "\n"
   ]
  },
  {
   "cell_type": "markdown",
   "metadata": {},
   "source": [
    "Mathematically, if you have a vector valued function $\\vec y = f(\\vec x)$, then the gradient of $\\vec y$ with respect to $\\vec x$ is a Jacobian matrix $J$:\n",
    "\n"
   ]
  },
  {
   "cell_type": "markdown",
   "metadata": {},
   "source": [
    "$$ \n",
    "J = (\\frac{\\partial y}{\\partial x_1} , ... ,  \\frac{\\partial y}{\\partial x_n}) \n",
    "=\n",
    "\\begin{pmatrix}\n",
    "\\frac{\\partial y_1}{\\partial x_1} & \\dots & \\frac{\\partial y_1}{\\partial x_n} \\\\ \n",
    "\\vdots & \\ddots & \\vdots \\\\ \n",
    "\\frac{\\partial y_m}{\\partial x_1} & \\dots & \\frac{\\partial y_m}{\\partial x_n}\n",
    "\\end{pmatrix}\n",
    "$$"
   ]
  },
  {
   "cell_type": "markdown",
   "metadata": {},
   "source": [
    "Generally speaking, ```torch.autograd``` is an engine for computing vector-Jacobian product. That is, given any vector $\\vec v$, compute the product $J^T \\cdot \\vec v$ ."
   ]
  },
  {
   "cell_type": "markdown",
   "metadata": {},
   "source": [
    "If $v$ happens to be the gradient of a scalar function"
   ]
  },
  {
   "cell_type": "markdown",
   "metadata": {},
   "source": [
    "$$\n",
    "l = g(\\vec y) = (\\frac{\\partial l}{\\partial y_1} \\dots \\frac{\\partial l}{\\partial y_m})^T\n",
    "$$"
   ]
  },
  {
   "cell_type": "markdown",
   "metadata": {},
   "source": [
    "then by the chain rule, the vector-Jacobian product would be the gradient of $l$\n",
    "with respect to $\\vec x$: "
   ]
  },
  {
   "cell_type": "markdown",
   "metadata": {},
   "source": [
    "$$\n",
    "J^T \\cdot \\vec v = \n",
    "\\begin{pmatrix}\n",
    "\\frac{\\partial y_1}{\\partial x_1} & \\dots & \\frac{\\partial y_m}{\\partial x_1} \\\\ \n",
    "\\vdots & \\ddots & \\vdots \\\\ \n",
    "\\frac{\\partial y_1}{\\partial x_n} & \\dots & \\frac{\\partial y_m}{\\partial x_n}\n",
    "\\end{pmatrix}\n",
    "\\begin{pmatrix}\n",
    "\\frac{\\partial l}{\\partial y_1} \\\\\n",
    "\\dots \\\\\n",
    "\\frac{\\partial l}{\\partial y_n}\n",
    "\\end{pmatrix}\n",
    "=\n",
    "\\begin{pmatrix}\n",
    "\\frac{\\partial l}{\\partial x_1} \\\\\n",
    "\\dots \\\\\n",
    "\\frac{\\partial l}{\\partial x_n}\n",
    "\\end{pmatrix}\n",
    "$$"
   ]
  },
  {
   "cell_type": "markdown",
   "metadata": {},
   "source": [
    "This characteristic of vector-Jacobian product is what we use in the above example; ```external_grad ``` represents $\\vec v$."
   ]
  },
  {
   "cell_type": "markdown",
   "metadata": {},
   "source": [
    "---"
   ]
  },
  {
   "cell_type": "markdown",
   "metadata": {},
   "source": [
    "### Computational Graph"
   ]
  },
  {
   "cell_type": "markdown",
   "metadata": {},
   "source": [
    "Conceptually, autograd keeps a record of data (tensors) & all executed operations (along with the resulting new tensors) in a directed acyclic graph (DAG) consisting of [Function](https://pytorch.org/docs/stable/autograd.html#torch.autograd.Function) objects. In this DAG, leaves are the input tensors, roots are the output tensors. By tracing this graph from roots to leaves, you can automatically compute the gradients using the chain rule.\n",
    "\n",
    "In a forward pass, autograd does two things simultaneously:\n",
    "\n",
    "* run the requested operation to compute a resulting tensor, and\n",
    "* maintain the operation’s gradient function in the DAG.  \n",
    "  \n",
    "The backward pass kicks off when ```.backward()``` is called on the DAG root. ```autograd ``` then:\n",
    "\n",
    "* computes the gradients from each ```.grad_fn ```,\n",
    "* accumulates them in the respective tensor’s ```.grad ``` attribute, and\n",
    "* using the chain rule, propagates all the way to the leaf tensors.  \n",
    "  \n",
    "Below is a visual representation of the DAG in our example. In the graph, the arrows are in the direction of the forward pass. The nodes represent the backward functions of each operation in the forward pass. The leaf nodes in blue represent our leaf tensors a and b."
   ]
  },
  {
   "cell_type": "markdown",
   "metadata": {},
   "source": [
    "<img src='https://pytorch.org/tutorials/_images/dag_autograd.png' width=400>"
   ]
  },
  {
   "cell_type": "markdown",
   "metadata": {},
   "source": [
    "---\n",
    "**NOTE**  \n",
    "DAGs are dynamic in PyTorch An important thing to note is that the graph is recreated from scratch; after each ```.backward() ```call, autograd starts populating a new graph. This is exactly what allows you to use control flow statements in your model; you can change the shape, size and operations at every iteration if needed.  \n",
    "  \n",
    "___"
   ]
  },
  {
   "cell_type": "markdown",
   "metadata": {},
   "source": [
    "### Exclusion from the DAG\n",
    "\n",
    "```torch.autograd ``` tracks operations on all tensors which have their ```requires_grad ``` flag set to True. For tensors that don’t require gradients, setting this attribute to False excludes it from the gradient computation DAG.\n",
    "\n",
    "The output tensor of an operation will require gradients even if only a single input tensor has ```requires_grad=True ```."
   ]
  },
  {
   "cell_type": "code",
   "execution_count": null,
   "metadata": {},
   "outputs": [],
   "source": [
    "x = torch.rand(5, 5)\n",
    "y = torch.rand(5, 5)\n",
    "z = torch.rand((5, 5), requires_grad=True)\n",
    "\n",
    "a = x + y\n",
    "print(f\"Does `a` require gradients? : {a.requires_grad}\")\n",
    "b = x + z\n",
    "print(f\"Does `b` require gradients?: {b.requires_grad}\")"
   ]
  },
  {
   "cell_type": "markdown",
   "metadata": {},
   "source": [
    "In a NN, parameters that don’t compute gradients are usually called **frozen parameters**. It is useful to “freeze” part of your model if you know in advance that you won’t need the gradients of those parameters (this offers some performance benefits by reducing autograd computations).\n",
    "\n",
    "Another common usecase where exclusion from the DAG is important is for [finetuning a pretrained network](https://pytorch.org/tutorials/beginner/finetuning_torchvision_models_tutorial.html)\n",
    "\n",
    "In finetuning, we freeze most of the model and typically only modify the classifier layers to make predictions on new labels. Let’s walk through a small example to demonstrate this. As before, we load a pretrained resnet18 model, and freeze all the parameters."
   ]
  },
  {
   "cell_type": "code",
   "execution_count": null,
   "metadata": {},
   "outputs": [],
   "source": [
    "from torch import nn, optim\n",
    "\n",
    "model = torchvision.models.resnet18(pretrained=True)\n",
    "\n",
    "# Freeze all the parameters in the network\n",
    "for param in model.parameters():\n",
    "    param.requires_grad = False"
   ]
  },
  {
   "cell_type": "markdown",
   "metadata": {},
   "source": [
    "Let’s say we want to finetune the model on a new dataset with 10 labels. In resnet, the classifier is the last linear layer ```model.fc```. We can simply replace it with a new linear layer (unfrozen by default) that acts as our classifier."
   ]
  },
  {
   "cell_type": "code",
   "execution_count": null,
   "metadata": {},
   "outputs": [],
   "source": [
    "model.fc = nn.Linear(512, 10)"
   ]
  },
  {
   "cell_type": "markdown",
   "metadata": {},
   "source": [
    "Now all parameters in the model, except the parameters of ```model.fc ```, are frozen. The only parameters that compute gradients are the weights and bias of ```model.fc```."
   ]
  },
  {
   "cell_type": "code",
   "execution_count": null,
   "metadata": {},
   "outputs": [],
   "source": [
    "# Optimize only the classifier\n",
    "optimizer = optim.SGD(model.fc.parameters(), lr=1e-2, momentum=0.9)"
   ]
  },
  {
   "cell_type": "markdown",
   "metadata": {},
   "source": [
    "Notice although we register all the parameters in the optimizer, the only parameters that are computing gradients (and hence updated in gradient descent) are the weights and bias of the classifier.\n",
    "\n",
    "The same exclusionary functionality is available as a context manager in [torch.no_grad()](https://pytorch.org/docs/stable/generated/torch.no_grad.html)."
   ]
  },
  {
   "cell_type": "markdown",
   "metadata": {},
   "source": [
    "---"
   ]
  },
  {
   "cell_type": "markdown",
   "metadata": {},
   "source": [
    "### Further readings:"
   ]
  },
  {
   "cell_type": "markdown",
   "metadata": {},
   "source": [
    "* [In-place operations & Multithreaded Autograd](https://pytorch.org/docs/stable/notes/autograd.html)  \n",
    "* [Example implementation of reverse-mode autodiff](https://colab.research.google.com/drive/1VpeE6UvEPRz9HmsHh1KS0XxXjYu533EC)"
   ]
  }
 ],
 "metadata": {
  "kernelspec": {
   "display_name": "Python 3.7.7",
   "language": "python",
   "name": "py3pack"
  },
  "language_info": {
   "codemirror_mode": {
    "name": "ipython",
    "version": 3
   },
   "file_extension": ".py",
   "mimetype": "text/x-python",
   "name": "python",
   "nbconvert_exporter": "python",
   "pygments_lexer": "ipython3",
   "version": "3.7.7"
  }
 },
 "nbformat": 4,
 "nbformat_minor": 4
}
